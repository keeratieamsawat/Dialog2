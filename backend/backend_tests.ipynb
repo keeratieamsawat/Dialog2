{
 "cells": [
  {
   "cell_type": "code",
   "execution_count": null,
   "metadata": {},
   "outputs": [],
   "source": [
    "##test the user api\n",
    "\n",
    "import requests\n",
    "import json  # Optional, for pretty-printing the response if needed\n",
    "\n",
    "url = \"http://127.0.0.1:5000/register\"\n",
    "\n",
    "data = {\n",
    "    \"first_name\": \"John\",\n",
    "    \"last_name\": \"Doe\",\n",
    "    \"email\": \"john.doe@example.com\",\n",
    "    \"password\": \"securepassword\",\n",
    "    \"confirm_password\": \"securepassword\",\n",
    "    \"gender\": \"Male\",\n",
    "    \"birthdate\": \"1990-01-01\",\n",
    "    \"country_of_residence\": \"USA\",\n",
    "    \"emergency_contact\": \"+1234567890\",\n",
    "    \"weight\": 70,\n",
    "    \"height\": 175,\n",
    "    \"consent\": True\n",
    "}\n",
    "\n",
    "# Send the POST request\n",
    "response = requests.post(url, json=data)\n",
    "\n",
    "# Print the response\n",
    "print(f\"Status Code: {response.status_code}\")\n",
    "print(\"Response:\", json.dumps(response.json(), indent=2))\n",
    "\n"
   ]
  },
  {
   "cell_type": "code",
   "execution_count": null,
   "metadata": {},
   "outputs": [],
   "source": [
    "##test the conditions api\n",
    "\n",
    "import requests\n",
    "\n",
    "url = \"http://127.0.0.1:5000/conditions\"\n",
    "\n",
    "data = {\n",
    "    \"patient_id\": \"123\",\n",
    "    \"basal_rate\": \"1 unit/hour\",\n",
    "    \"diagnosis_date\": {\"month\": \"January\", \"year\": \"2015\"},\n",
    "    \"diabetes_type\": \"Type 1\",\n",
    "    \"insulin_type\": \"Rapid-acting\",\n",
    "    \"insulin_administration\": \"Pen\",\n",
    "    \"other_conditions\": \"Hypertension\",\n",
    "    \"other_medications\": \"Statins\",\n",
    "    \"units_used\": {\"blood_sugar\": \"mg/dL\", \"carbohydrates\": \"grams\"},\n",
    "    \"blood_sugar_target_range\": {\"hypo\": \"70\", \"target\": \"100-140\", \"hyper\": \"200\"},\n",
    "    \"doctor_details\": {\n",
    "        \"name\": \"Dr. Smith\",\n",
    "        \"email\": \"dr.smith@example.com\",\n",
    "        \"emergency_contact\": \"+1234567890\"\n",
    "    },\n",
    "    \"information_level\": \"Comprehensive\"\n",
    "}\n",
    "\n",
    "# POST request to save condition data\n",
    "response = requests.post(url, json=data)\n",
    "print(response.status_code, response.json())\n",
    "\n",
    "# GET request to retrieve the condition data for the patient\n",
    "response = requests.get(f\"{url}/123\")\n",
    "print(response.status_code, response.json())\n"
   ]
  }
 ],
 "metadata": {
  "language_info": {
   "name": "python"
  }
 },
 "nbformat": 4,
 "nbformat_minor": 2
}
